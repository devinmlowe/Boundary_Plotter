{
 "cells": [
  {
   "cell_type": "markdown",
   "metadata": {},
   "source": [
    "# Testing the conversion tools"
   ]
  },
  {
   "cell_type": "code",
   "execution_count": 1,
   "metadata": {},
   "outputs": [
    {
     "name": "stdout",
     "output_type": "stream",
     "text": [
      "S45°32'00\"W\n"
     ]
    }
   ],
   "source": [
    "from angles import decimal_degree_to_quad_bearing\n",
    "\n",
    "print(decimal_degree_to_quad_bearing(225.533333))"
   ]
  },
  {
   "cell_type": "code",
   "execution_count": 2,
   "metadata": {},
   "outputs": [
    {
     "name": "stdout",
     "output_type": "stream",
     "text": [
      "32.28611111111111\n"
     ]
    }
   ],
   "source": [
    "from angles import parse_bearing\n",
    "print(parse_bearing(\"32°17'10\\\"\"))"
   ]
  },
  {
   "cell_type": "code",
   "execution_count": 3,
   "metadata": {},
   "outputs": [
    {
     "name": "stdout",
     "output_type": "stream",
     "text": [
      "45°32'00\"\n"
     ]
    }
   ],
   "source": [
    "from angles import decimal_degree_to_azimuth\n",
    "\n",
    "print(decimal_degree_to_azimuth(225.533333-180))"
   ]
  },
  {
   "cell_type": "markdown",
   "metadata": {},
   "source": [
    "# Testing regex functionality\n",
    "We will use the `regex` library rather than the built-in `re` library due to the availability of posix functions, this should allow for increased flexibility when parsing bearing calls due to all the `\"` and `'` symbols that would otherwise require `\\` as escapes.\n",
    "\n",
    "We will use `import regex as re` so that the function is (in theory) backwards compatible with the `re` library if we need to refactor or go back to using the standard `re` library.\n",
    "\n",
    "Within the regex syntax, we utilze the `?<group_name>` to name each of the desired capture groups to `departure`, `degrees`, `minutes`, `seconds`, and `latitude` to make the output easier to understand.\n"
   ]
  },
  {
   "cell_type": "code",
   "execution_count": 7,
   "metadata": {},
   "outputs": [
    {
     "name": "stdout",
     "output_type": "stream",
     "text": [
      "S45°32'W\n",
      "\tdeparture: S\n",
      "\tdegrees: 45\n",
      "\tminutes: 32\n",
      "\tseconds: None\n",
      "\tlatitude: W\n",
      "N33°22'11\"E\n",
      "\tdeparture: N\n",
      "\tdegrees: 33\n",
      "\tminutes: 22\n",
      "\tseconds: 11\n",
      "\tlatitude: E\n",
      "33°22'11\"\n",
      "\tdeparture: None\n",
      "\tdegrees: 33\n",
      "\tminutes: 22\n",
      "\tseconds: 11\n",
      "\tlatitude: None\n",
      "S70°E\n",
      "\tdeparture: S\n",
      "\tdegrees: 70\n",
      "\tminutes: None\n",
      "\tseconds: None\n",
      "\tlatitude: E\n",
      "33°\n",
      "\tdeparture: None\n",
      "\tdegrees: 33\n",
      "\tminutes: None\n",
      "\tseconds: None\n",
      "\tlatitude: None\n"
     ]
    }
   ],
   "source": [
    "import regex as re\n",
    "\n",
    "\n",
    "bearing_with_quad: str = '''N33°22'11\"E'''\n",
    "bearing_without_quad: str = '''33°22'11\"'''\n",
    "bearing_missing_parts: str = \"S70°E\"\n",
    "bearing_missing_parts_no_quad: str = '''33°'''\n",
    "\n",
    "pattern = re.compile(r'''\n",
    "                     (?<departure>[NS])?\n",
    "                     (?<degrees>[0-9]+)([[:punct:]]+)\n",
    "                     ((?<minutes>[0-9]+)([[:punct:]]+))?\n",
    "                     ((?<seconds>[0-9]+)([[:punct:]]+))?\n",
    "                     (?<latitude>[EW])?\n",
    "                     ''',re.VERBOSE)\n",
    "\n",
    "\n",
    "capture_groups = [\"departure\", \"degrees\", \"minutes\", \"seconds\", \"latitude\"]\n",
    "\n",
    "values_to_loop = [\"S45°32'W\",bearing_with_quad, bearing_without_quad, bearing_missing_parts, bearing_missing_parts_no_quad]\n",
    "\n",
    "for val in values_to_loop:\n",
    "    match = pattern.match(val)\n",
    "    if match:\n",
    "        print(f\"{val}\")\n",
    "        for capture_name in capture_groups:\n",
    "            print(f\"\\t{capture_name}: {match.group(capture_name)}\")\n",
    "    else:\n",
    "        print(\"No Match Found\")\n"
   ]
  }
 ],
 "metadata": {
  "kernelspec": {
   "display_name": ".venv",
   "language": "python",
   "name": "python3"
  },
  "language_info": {
   "codemirror_mode": {
    "name": "ipython",
    "version": 3
   },
   "file_extension": ".py",
   "mimetype": "text/x-python",
   "name": "python",
   "nbconvert_exporter": "python",
   "pygments_lexer": "ipython3",
   "version": "3.10.0"
  }
 },
 "nbformat": 4,
 "nbformat_minor": 2
}
