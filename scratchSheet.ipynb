{
 "cells": [
  {
   "cell_type": "code",
   "execution_count": 1,
   "metadata": {},
   "outputs": [
    {
     "name": "stdout",
     "output_type": "stream",
     "text": [
      "225.533333\n",
      "S405°31'60\"W\n"
     ]
    }
   ],
   "source": [
    "from angles import decimal_degree_to_quad_bearing\n",
    "\n",
    "print(decimal_degree_to_quad_bearing(225.533333))"
   ]
  },
  {
   "cell_type": "code",
   "execution_count": 3,
   "metadata": {},
   "outputs": [
    {
     "name": "stdout",
     "output_type": "stream",
     "text": [
      "45°31'60\"\n"
     ]
    }
   ],
   "source": [
    "from angles import decimal_degree_to_azimuth\n",
    "\n",
    "print(decimal_degree_to_azimuth(225.533333-180))"
   ]
  }
 ],
 "metadata": {
  "kernelspec": {
   "display_name": ".venv",
   "language": "python",
   "name": "python3"
  },
  "language_info": {
   "codemirror_mode": {
    "name": "ipython",
    "version": 3
   },
   "file_extension": ".py",
   "mimetype": "text/x-python",
   "name": "python",
   "nbconvert_exporter": "python",
   "pygments_lexer": "ipython3",
   "version": "3.10.0"
  }
 },
 "nbformat": 4,
 "nbformat_minor": 2
}
