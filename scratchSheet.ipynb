{
 "cells": [
  {
   "cell_type": "code",
   "execution_count": 4,
   "metadata": {},
   "outputs": [
    {
     "ename": "ImportError",
     "evalue": "cannot import name 'parse_bearing' from 'boundaries' (c:\\Users\\xo680f\\Documents\\Git\\Boundary_Plotter\\boundaries.py)",
     "output_type": "error",
     "traceback": [
      "\u001b[1;31m---------------------------------------------------------------------------\u001b[0m",
      "\u001b[1;31mImportError\u001b[0m                               Traceback (most recent call last)",
      "Cell \u001b[1;32mIn[4], line 1\u001b[0m\n\u001b[1;32m----> 1\u001b[0m \u001b[38;5;28;01mfrom\u001b[39;00m \u001b[38;5;21;01mboundaries\u001b[39;00m \u001b[38;5;28;01mimport\u001b[39;00m parse_bearing\n\u001b[0;32m      3\u001b[0m \u001b[38;5;28minput\u001b[39m\u001b[38;5;241m=\u001b[39m\u001b[38;5;124m\"\u001b[39m\u001b[38;5;124mN32°10\u001b[39m\u001b[38;5;124m'\u001b[39m\u001b[38;5;124m32\u001b[39m\u001b[38;5;130;01m\\\"\u001b[39;00m\u001b[38;5;124mE\u001b[39m\u001b[38;5;124m\"\u001b[39m\n\u001b[0;32m      4\u001b[0m result \u001b[38;5;241m=\u001b[39m parse_bearing(\u001b[38;5;28minput\u001b[39m)\n",
      "\u001b[1;31mImportError\u001b[0m: cannot import name 'parse_bearing' from 'boundaries' (c:\\Users\\xo680f\\Documents\\Git\\Boundary_Plotter\\boundaries.py)"
     ]
    }
   ],
   "source": [
    "from boundaries import parse_bearing\n",
    "\n",
    "input=\"N32°10'32\\\"E\"\n",
    "result = parse_bearing(input)\n",
    "\n",
    "print(result)"
   ]
  }
 ],
 "metadata": {
  "kernelspec": {
   "display_name": ".venv",
   "language": "python",
   "name": "python3"
  },
  "language_info": {
   "codemirror_mode": {
    "name": "ipython",
    "version": 3
   },
   "file_extension": ".py",
   "mimetype": "text/x-python",
   "name": "python",
   "nbconvert_exporter": "python",
   "pygments_lexer": "ipython3",
   "version": "3.10.0"
  }
 },
 "nbformat": 4,
 "nbformat_minor": 2
}
